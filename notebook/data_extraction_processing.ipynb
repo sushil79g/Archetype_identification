{
 "cells": [
  {
   "cell_type": "code",
   "execution_count": null,
   "metadata": {
    "colab": {
     "base_uri": "https://localhost:8080/",
     "height": 111,
     "resources": {
      "http://localhost:8080/nbextensions/google.colab/files.js": {
       "data": "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",
       "headers": [
        [
         "content-type",
         "application/javascript"
        ]
       ],
       "ok": true,
       "status": 200,
       "status_text": ""
      }
     }
    },
    "colab_type": "code",
    "id": "iDnlR19gn7Si",
    "outputId": "e60b7b6a-dbb6-4f2c-8d09-dbf8099d4b98"
   },
   "outputs": [],
   "source": [
    "from google.colab import files\n",
    "files.upload()"
   ]
  },
  {
   "cell_type": "code",
   "execution_count": null,
   "metadata": {
    "colab": {
     "base_uri": "https://localhost:8080/",
     "height": 173
    },
    "colab_type": "code",
    "id": "MeHd46iLBWg_",
    "outputId": "ba605ee4-cc01-450f-bb43-0efa3a6ff97e"
   },
   "outputs": [],
   "source": [
    "!pip install preprocessor\n",
    "!pip install tweepy"
   ]
  },
  {
   "cell_type": "code",
   "execution_count": 1,
   "metadata": {
    "colab": {
     "base_uri": "https://localhost:8080/",
     "height": 68
    },
    "colab_type": "code",
    "id": "unAi9F6qoRnn",
    "outputId": "ae73d62d-8cff-40d3-bef5-fcf0fb3500e0"
   },
   "outputs": [
    {
     "name": "stdout",
     "output_type": "stream",
     "text": [
      "[nltk_data] Downloading package stopwords to\n",
      "[nltk_data]     /home/sushil79g/nltk_data...\n",
      "[nltk_data]   Unzipping corpora/stopwords.zip.\n"
     ]
    },
    {
     "data": {
      "text/plain": [
       "True"
      ]
     },
     "execution_count": 1,
     "metadata": {},
     "output_type": "execute_result"
    }
   ],
   "source": [
    "import numpy as np\n",
    "import pandas as pd \n",
    "from pprint import pprint as pprint\n",
    "import tweepy\n",
    "import preprocessor as p\n",
    "import re\n",
    "from nltk.corpus import stopwords\n",
    "from string import digits\n",
    "import nltk\n",
    "nltk.download('stopwords')\n"
   ]
  },
  {
   "cell_type": "code",
   "execution_count": 0,
   "metadata": {
    "colab": {},
    "colab_type": "code",
    "id": "QEvHqFpvocB2"
   },
   "outputs": [],
   "source": [
    "tweet_acc = pd.read_csv('tweet_account.csv',names=['handle','catagory'])"
   ]
  },
  {
   "cell_type": "code",
   "execution_count": 98,
   "metadata": {
    "colab": {
     "base_uri": "https://localhost:8080/",
     "height": 204
    },
    "colab_type": "code",
    "id": "yt9soDp9Ks_F",
    "outputId": "b8f76ebc-7cb4-44df-8552-f7ea4b4b7ded"
   },
   "outputs": [
    {
     "data": {
      "text/html": [
       "<div>\n",
       "<style scoped>\n",
       "    .dataframe tbody tr th:only-of-type {\n",
       "        vertical-align: middle;\n",
       "    }\n",
       "\n",
       "    .dataframe tbody tr th {\n",
       "        vertical-align: top;\n",
       "    }\n",
       "\n",
       "    .dataframe thead th {\n",
       "        text-align: right;\n",
       "    }\n",
       "</style>\n",
       "<table border=\"1\" class=\"dataframe\">\n",
       "  <thead>\n",
       "    <tr style=\"text-align: right;\">\n",
       "      <th></th>\n",
       "      <th>handle</th>\n",
       "      <th>catagory</th>\n",
       "    </tr>\n",
       "  </thead>\n",
       "  <tbody>\n",
       "    <tr>\n",
       "      <th>0</th>\n",
       "      <td>thedailyswarm</td>\n",
       "      <td>Music</td>\n",
       "    </tr>\n",
       "    <tr>\n",
       "      <th>1</th>\n",
       "      <td>soundofthecity</td>\n",
       "      <td>Music</td>\n",
       "    </tr>\n",
       "    <tr>\n",
       "      <th>2</th>\n",
       "      <td>PasteMagazine</td>\n",
       "      <td>Music</td>\n",
       "    </tr>\n",
       "    <tr>\n",
       "      <th>3</th>\n",
       "      <td>SPINmagazine</td>\n",
       "      <td>Music</td>\n",
       "    </tr>\n",
       "    <tr>\n",
       "      <th>4</th>\n",
       "      <td>RollingStone</td>\n",
       "      <td>Music</td>\n",
       "    </tr>\n",
       "  </tbody>\n",
       "</table>\n",
       "</div>"
      ],
      "text/plain": [
       "           handle catagory\n",
       "0   thedailyswarm    Music\n",
       "1  soundofthecity    Music\n",
       "2   PasteMagazine    Music\n",
       "3    SPINmagazine    Music\n",
       "4    RollingStone    Music"
      ]
     },
     "execution_count": 98,
     "metadata": {
      "tags": []
     },
     "output_type": "execute_result"
    }
   ],
   "source": [
    "tweet_acc.head(5)"
   ]
  },
  {
   "cell_type": "code",
   "execution_count": 0,
   "metadata": {
    "colab": {},
    "colab_type": "code",
    "id": "aEk68yk0ogoc"
   },
   "outputs": [],
   "source": [
    "API_KEYS = ''\n",
    "API_SECRET_KEY = ''\n",
    "ACCESS_TOKEN = ''\n",
    "ACCESS_TOKEN_SECRET = ''"
   ]
  },
  {
   "cell_type": "code",
   "execution_count": 0,
   "metadata": {
    "colab": {},
    "colab_type": "code",
    "id": "m3odrUhBoitq"
   },
   "outputs": [],
   "source": [
    "auth = tweepy.OAuthHandler(API_KEYS, API_SECRET_KEY)\n",
    "auth.set_access_token(ACCESS_TOKEN, ACCESS_TOKEN_SECRET)"
   ]
  },
  {
   "cell_type": "code",
   "execution_count": 0,
   "metadata": {
    "colab": {},
    "colab_type": "code",
    "id": "4uE4yZem6rUw"
   },
   "outputs": [],
   "source": [
    "api = tweepy.API(auth)"
   ]
  },
  {
   "cell_type": "code",
   "execution_count": 0,
   "metadata": {
    "colab": {},
    "colab_type": "code",
    "id": "6CMF_7mM6vU5"
   },
   "outputs": [],
   "source": [
    "stuff = api.user_timeline(screen_name='observer', count=100, include_rts=False)"
   ]
  },
  {
   "cell_type": "code",
   "execution_count": 0,
   "metadata": {
    "colab": {},
    "colab_type": "code",
    "id": "dxiQ64Mw-X5a"
   },
   "outputs": [],
   "source": [
    "stopword_tw = ['get', 'got', 'hey', 'hmm', 'hoo', 'let', 'ooo', 'par',\n",
    "    'yer', 'didn', 'one', 'com', 'new', 'like', 'great',\n",
    "    'make', 'top', 'awesome', 'best', 'good', 'wow', 'yes',\n",
    "    'say', 'yay', 'would', 'thanks', 'thank', 'use',\n",
    "    'should', 'could','best','really','see','want','nice',\n",
    "    'while','know', 'trump', 'nyfw', 'iphone', 'hurricane',\n",
    "    'rt', 'per', 'espn', 'soundcloud', 'ten', 'count', \n",
    "    'advance', 'newsletter','thedish', 'nycwff', 'thefword',\n",
    "    'irma', 'fave', 'beer', 'stefan', 'aiga',\n",
    "    'aigatogether', 'aigadesignconf', 'aigadg', 'aigagala',\n",
    "    'ddc', 'tbt', 'whitneybiennial', 'calder', 'wknd',\n",
    "    'pipilottirist', 'live', 'watch', 'check', 'video',\n",
    "    'clip', 'today', 'tonight', 'week', 'year', 'month',\n",
    "    'time', 'last', 'night', 'morning', 'yesterday',\n",
    "    'tomorrow', 'day', 'first', 'love', 'nyc', 'city',\n",
    "    'york', 'new', 'happy', 'need', 'look', 'back', 'right',\n",
    "    'win', 'chance', 'enter', 'ever','pst','wha','yep', 'via',\n",
    "    'app', 'twitter', 'streaming', 'stream', 'ask', 'amp',\n",
    "    'beautiful', 'best', 'amazing', 'good', 'perfect', 'cute',\n",
    "    'simple', 'love']\n",
    "\n",
    "stop_list = set(stopwords.words('english') + stopword_tw)"
   ]
  },
  {
   "cell_type": "code",
   "execution_count": 0,
   "metadata": {
    "colab": {},
    "colab_type": "code",
    "id": "YeGYVwZ8_1Eu"
   },
   "outputs": [],
   "source": [
    "def twitter_preprocess(messages):\n",
    "#   print('here')\n",
    "  new_tweet = []\n",
    "  emoji_pattern = re.compile(\"[\"\n",
    "                           u\"\\U0001F600-\\U0001F64F\"  # emoticons\n",
    "                           u\"\\U0001F300-\\U0001F5FF\"  # symbols & pictographs\n",
    "                           u\"\\U0001F680-\\U0001F6FF\"  # transport & map symbols\n",
    "                           u\"\\U0001F1E0-\\U0001F1FF\"  # flags (iOS)\n",
    "                           u\"\\U00002702-\\U000027B0\"\n",
    "                           u\"\\U000024C2-\\U0001F251\"\n",
    "                           \"]+\", flags=re.UNICODE)\n",
    "  \n",
    "  for tweet in messages:\n",
    "      tweet = re.sub(r\"^https://t.co/[A-Za-z0-9]*\\s\",\" \",tweet)\n",
    "      tweet = re.sub(r\"\\s+https://t.co/[a-zA-Z0-9]*\\s\", \" \", tweet)\n",
    "      tweet = re.sub(r\"\\s+https://t.co/[a-zA-Z0-9]*$\", \" \", tweet)\n",
    "                                           # to substitute url's with a whitespace at the beginning, in between and at the end of a sentence\n",
    "      \n",
    "      tweet = re.sub(\"\\.\\.+\",\" \",tweet)    # to substitute more than one '.' between words with a space\n",
    "      tweet = re.sub(\"-$\",\"\",tweet)        # to remove '-' at the end of a sentence\n",
    "      tweet = re.sub(r\"^ +\",\"\",tweet)      # to remove one or more whitespace at the beginning of a sentence\n",
    "      tweet = re.sub(r\"  +\",\" \",tweet)     # to substitute one or more whitespace with a single space\n",
    "      tweet = emoji_pattern.sub(r'', tweet)\n",
    "      tweet = re.sub(r\"(?:#|\\@|https?\\:\\/\\/|www\\.)\\S+\",\"\",tweet)\n",
    "      \n",
    "#       tweet = ''.join([word for word in tweet if word not in stop_list])\n",
    "      new_tweet.append(tweet)\n",
    "  return new_tweet"
   ]
  },
  {
   "cell_type": "code",
   "execution_count": 0,
   "metadata": {
    "colab": {},
    "colab_type": "code",
    "id": "b4355nXm7BJs"
   },
   "outputs": [],
   "source": [
    "def get_tweet(screen_name, count=200, include_rts=False):\n",
    "  try:\n",
    "    pprint('getting tweet from {}'.format(screen_name))\n",
    "\n",
    "    stuff = api.user_timeline(screen_name = screen_name, count=count, include_rts=include_rts)\n",
    "    total_tweet = []\n",
    "\n",
    "    for tweet in stuff:\n",
    "      total_tweet.append(tweet.text)\n",
    "\n",
    "  #   print(len(total_tweet))\n",
    "\n",
    "    return ''.join(twitter_preprocess(total_tweet))\n",
    "  \n",
    "  except:\n",
    "    return np.nan\n",
    "\n",
    "  \n",
    "    "
   ]
  },
  {
   "cell_type": "code",
   "execution_count": 101,
   "metadata": {
    "colab": {
     "base_uri": "https://localhost:8080/",
     "height": 3349
    },
    "colab_type": "code",
    "id": "w1FRGEDcAPZ9",
    "outputId": "ef8fa1bf-f726-4d5f-ae19-fc088d3b40f8"
   },
   "outputs": [
    {
     "name": "stdout",
     "output_type": "stream",
     "text": [
      "'getting tweet from thedailyswarm'\n",
      "'getting tweet from soundofthecity'\n",
      "'getting tweet from PasteMagazine'\n",
      "'getting tweet from SPINmagazine'\n",
      "'getting tweet from RollingStone'\n",
      "'getting tweet from HipHopDX'\n",
      "'getting tweet from BLABBERMOUTHNET'\n",
      "'getting tweet from CountryMusicNB'\n",
      "'getting tweet from JazzMusicHub'\n",
      "'getting tweet from billboard'\n",
      "'getting tweet from stereogum'\n",
      "'getting tweet from musicalredhead'\n",
      "'getting tweet from Zernerlaw'\n",
      "'getting tweet from cspanmusiclaw'\n",
      "'getting tweet from CopyrightLaw'\n",
      "'getting tweet from gfiremark'\n",
      "'getting tweet from dealfatigue'\n",
      "'getting tweet from The_Jazz_Lawyer'\n",
      "'getting tweet from nymusicLawyer'\n",
      "'getting tweet from TameraBennett'\n",
      "'getting tweet from SteveGordonLaw'\n",
      "'getting tweet from NoisyMusic'\n",
      "'getting tweet from SoundCloud'\n",
      "'getting tweet from Pitchfork'\n",
      "'getting tweet from Ticketmaster'\n",
      "'getting tweet from SPIN '\n",
      "'getting tweet from NPRmusic'\n",
      "'getting tweet from NME'\n",
      "'getting tweet from nytimesmusic'\n",
      "'getting tweet from Shazam'\n",
      "'getting tweet from warnermusic'\n",
      "'getting tweet from MTVMusic'\n",
      "'getting tweet from VVoiceMusic'\n",
      "'getting tweet from Bandsintown'\n",
      "'getting tweet from songkick'\n",
      "'getting tweet from residentadvisor'\n",
      "'getting tweet from DaveKaval'\n",
      "'getting tweet from burbunny'\n",
      "'getting tweet from wada_ama'\n",
      "'getting tweet from WNBAPrez'\n",
      "'getting tweet from ScottStanchak'\n",
      "'getting tweet from DiorNFLPA'\n",
      "'getting tweet from mlbam'\n",
      "'getting tweet from BettinaCornwell'\n",
      "'getting tweet from RodneyFort'\n",
      "'getting tweet from WALLACHLEGAL'\n",
      "'getting tweet from NathanielGrow'\n",
      "'getting tweet from sbjsbd'\n",
      "'getting tweet from OTLonESPN'\n",
      "'getting tweet from SBRadio'\n",
      "'getting tweet from AndrewBrandt'\n",
      "'getting tweet from GeoffBakerTIMES'\n",
      "'getting tweet from Bill_Shea19'\n",
      "'getting tweet from darrenrovell'\n",
      "'getting tweet from BrianCostaWSJ'\n",
      "'getting tweet from cannonjw'\n",
      "'getting tweet from tariq_ahmad'\n",
      "'getting tweet from rscibetti'\n",
      "'getting tweet from TJQuinnESPN'\n",
      "'getting tweet from hbryant42'\n",
      "'getting tweet from SBJLizMullen'\n",
      "'getting tweet from SportsTaxMan'\n",
      "'getting tweet from RullingSports'\n",
      "'getting tweet from mulvihill79'\n",
      "'getting tweet from richarddeitsch'\n",
      "'getting tweet from Ourand_SBJ'\n",
      "'getting tweet from AustinKarp'\n",
      "'getting tweet from dfbarron'\n",
      "'getting tweet from paulsen_smw'\n",
      "'getting tweet from EricFisherSBJ'\n",
      "'getting tweet from SwanniOnTv'\n",
      "'getting tweet from fieldofschemes'\n",
      "'getting tweet from SportsTao'\n",
      "'getting tweet from BFlay'\n",
      "'getting tweet from ChefGuyFieri'\n",
      "'getting tweet from Emeril'\n",
      "'getting tweet from GaelGreene'\n",
      "'getting tweet from GDeLaurentiis'\n",
      "'getting tweet from Jamie_Oliver'\n",
      "'getting tweet from MarthaStewart'\n",
      "'getting tweet from offalchris'\n",
      "'getting tweet from Paula_Deen'\n",
      "'getting tweet from roccondispirito'\n",
      "'getting tweet from The_Neelys'\n",
      "'getting tweet from TheDeenBros'\n",
      "'getting tweet from TylerFlorence'\n",
      "'getting tweet from bayareabites'\n",
      "'getting tweet from CandyBlog'\n",
      "'getting tweet from CateOMalley'\n",
      "'getting tweet from ChewOnThat'\n",
      "'getting tweet from edlevine'\n",
      "'getting tweet from foodgawker'\n",
      "'getting tweet from homesicktexan'\n",
      "'getting tweet from jeters'\n",
      "'getting tweet from locavoreblog'\n",
      "'getting tweet from mizmaggieb'\n",
      "'getting tweet from nandita'\n",
      "'getting tweet from offbeat_eating'\n",
      "'getting tweet from phillygrub'\n",
      "'getting tweet from rasamalaysia'\n",
      "'getting tweet from ShunaFish'\n",
      "'getting tweet from simplyrecipes'\n",
      "'getting tweet from Slice'\n",
      "'getting tweet from StickyGooeyChef'\n",
      "'getting tweet from sushiday'\n",
      "'getting tweet from TheDelicious'\n",
      "'getting tweet from TOfoodie'\n",
      "'getting tweet from broylesa'\n",
      "'getting tweet from CarolynJung'\n",
      "'getting tweet from chezpim'\n",
      "'getting tweet from Bourdain'\n",
      "'getting tweet from richardbranson'\n",
      "'getting tweet from Earth_Pics'\n",
      "'getting tweet from frugaltraveler'\n",
      "'getting tweet from Heather_Poole'\n",
      "'getting tweet from humansofny'\n",
      "'getting tweet from Loispryce'\n",
      "'getting tweet from LuxeTiffany'\n",
      "'getting tweet from twobadtourist'\n",
      "'getting tweet from worldhum'\n",
      "'getting tweet from ailish_casey'\n",
      "'getting tweet from TrueNomads'\n",
      "'getting tweet from Just1WayTicket'\n",
      "'getting tweet from adventurouskate'\n",
      "'getting tweet from mappingmegan'\n",
      "'getting tweet from Suitcases2'\n",
      "'getting tweet from Fascinatingpics'\n",
      "'getting tweet from Globe_Pics'\n",
      "'getting tweet from planetepics'\n",
      "'getting tweet from journeywonders'\n",
      "'getting tweet from BBC_Travel'\n",
      "'getting tweet from CNTraveler'\n",
      "'getting tweet from GuardianTravel'\n",
      "'getting tweet from LocalistTravel'\n",
      "'getting tweet from lonelyplanet'\n",
      "'getting tweet from NatGeoTravel'\n",
      "'getting tweet from RoughGuides'\n",
      "'getting tweet from SamanthaBrown'\n",
      "'getting tweet from PeterSGreenberg'\n",
      "'getting tweet from RickSteves'\n",
      "'getting tweet from TheBookMaven'\n",
      "'getting tweet from bookforum'\n",
      "'getting tweet from bookpage'\n",
      "'getting tweet from BookRiot'\n",
      "'getting tweet from Booksreport'\n",
      "'getting tweet from ElectricLit'\n",
      "'getting tweet from GalleyCat'\n",
      "'getting tweet from goodreads'\n",
      "'getting tweet from GuardianBooks'\n",
      "'getting tweet from HuffPostBooks'\n",
      "'getting tweet from latimesbooks'\n",
      "'getting tweet from LitChat'\n",
      "'getting tweet from thelithub'\n",
      "'getting tweet from The_Millions'\n",
      "'getting tweet from NetGalley'\n",
      "'getting tweet from nytimesbooks'\n",
      "'getting tweet from nprbooks'\n",
      "'getting tweet from PoetryFound'\n",
      "'getting tweet from Poells'\n",
      "'getting tweet from publicbooks'\n",
      "'getting tweet from PublishersWkly'\n",
      "'getting tweet from The_Rumpus'\n",
      "'getting tweet from strandbookstore'\n",
      "'getting tweet from TwitterBooks'\n",
      "'getting tweet from elonmusk'\n",
      "'getting tweet from billgates'\n",
      "'getting tweet from Sundarpichai'\n",
      "'getting tweet from tim_cook'\n",
      "'getting tweet from jeffbezos'\n",
      "'getting tweet from emilychangtv'\n",
      "'getting tweet from mkbhd'\n",
      "'getting tweet from dhh'\n",
      "'getting tweet from reshmasaujani'\n",
      "'getting tweet from KaraSwisher'\n",
      "'getting tweet from mims'\n",
      "'getting tweet from davidcohen'\n",
      "'getting tweet from charlesarthur'\n",
      "'getting tweet from jeffweiner'\n",
      "'getting tweet from banedictevans'\n",
      "'getting tweet from sirajraval'\n",
      "'getting tweet from ajitpaifcc'\n",
      "'getting tweet from BoredElonMusk'\n",
      "'getting tweet from SwiftonSecurity'\n",
      "'getting tweet from DigitalTrends'\n",
      "'getting tweet from CNET'\n",
      "'getting tweet from Engadget'\n",
      "'getting tweet from TechCrunch'\n",
      "'getting tweet from Wired'\n",
      "'getting tweet from Verge'\n",
      "'getting tweet from ForbesTech'\n",
      "'getting tweet from MashableTech'\n",
      "'getting tweet from TheNextWeb'\n",
      "'getting tweet from arstechnica'\n",
      "'getting tweet from cnntech'\n",
      "'getting tweet from SAI'\n",
      "'getting tweet from nytimes'\n"
     ]
    }
   ],
   "source": [
    "def get_tweet_by_handle(x):\n",
    "  return get_tweet(screen_name=x)\n",
    "\n",
    "tweet_acc['tweet'] = tweet_acc['handle'].apply(get_tweet_by_handle)"
   ]
  },
  {
   "cell_type": "code",
   "execution_count": 0,
   "metadata": {
    "colab": {},
    "colab_type": "code",
    "id": "4kiK8yF5IgAF"
   },
   "outputs": [],
   "source": [
    "df = tweet_acc[pd.notnull(tweet_acc['tweet'])]"
   ]
  },
  {
   "cell_type": "code",
   "execution_count": 6,
   "metadata": {
    "colab": {
     "base_uri": "https://localhost:8080/",
     "height": 204
    },
    "colab_type": "code",
    "id": "NeChg5wLJBhv",
    "outputId": "e52be9fa-0c54-4888-8161-a94f7af97c3a"
   },
   "outputs": [],
   "source": [
    "df.drop(columns='Unnamed: 0',inplace=True)"
   ]
  },
  {
   "cell_type": "code",
   "execution_count": 9,
   "metadata": {
    "colab": {
     "base_uri": "https://localhost:8080/",
     "height": 34
    },
    "colab_type": "code",
    "id": "tvC2eFj9Msvt",
    "outputId": "7d9be973-8ea5-48b3-d49b-916953f50e5c"
   },
   "outputs": [],
   "source": [
    "df.dropna(inplace=True)"
   ]
  },
  {
   "cell_type": "code",
   "execution_count": 0,
   "metadata": {
    "colab": {},
    "colab_type": "code",
    "id": "eK2jmI0DNJG3"
   },
   "outputs": [],
   "source": []
  }
 ],
 "metadata": {
  "accelerator": "GPU",
  "colab": {
   "name": "user_type_twitter.ipynb",
   "provenance": [],
   "version": "0.3.2"
  },
  "kernelspec": {
   "display_name": "Python 3",
   "language": "python",
   "name": "python3"
  },
  "language_info": {
   "codemirror_mode": {
    "name": "ipython",
    "version": 3
   },
   "file_extension": ".py",
   "mimetype": "text/x-python",
   "name": "python",
   "nbconvert_exporter": "python",
   "pygments_lexer": "ipython3",
   "version": "3.6.7"
  }
 },
 "nbformat": 4,
 "nbformat_minor": 1
}
